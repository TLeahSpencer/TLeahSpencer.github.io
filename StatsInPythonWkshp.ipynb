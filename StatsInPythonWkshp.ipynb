{
  "nbformat": 4,
  "nbformat_minor": 0,
  "metadata": {
    "colab": {
      "name": "Untitled0.ipynb",
      "provenance": [],
      "authorship_tag": "ABX9TyM+EJPBpiB0XjZi6KpdxLA3",
      "include_colab_link": true
    },
    "kernelspec": {
      "name": "python3",
      "display_name": "Python 3"
    }
  },
  "cells": [
    {
      "cell_type": "markdown",
      "metadata": {
        "id": "view-in-github",
        "colab_type": "text"
      },
      "source": [
        "<a href=\"https://colab.research.google.com/github/TLeahSpencer/TLeahSpencer.github.io/blob/master/StatsInPythonWkshp.ipynb\" target=\"_parent\"><img src=\"https://colab.research.google.com/assets/colab-badge.svg\" alt=\"Open In Colab\"/></a>"
      ]
    },
    {
      "cell_type": "code",
      "metadata": {
        "id": "pZTbEFvfIwMl",
        "colab_type": "code",
        "colab": {
          "base_uri": "https://localhost:8080/",
          "height": 72
        },
        "outputId": "b45aa76a-bb06-4563-cbc5-4c48ad2bcc28"
      },
      "source": [
        "import numpy as np #Make mathematical operations & array processing faster\n",
        "import pandas as pd #Used for data science processes for easy indexing and manipulation\n",
        "import matplotlib.pyplot as plt #High Level Data Visualization library\n",
        "import statistics #High level library far Data Science using Mathematics\n",
        "import scipy.stats as stats #High Level Library for Stats and Mathematics\n",
        "import seaborn as sns\n",
        "\n",
        "%matplotlib inline"
      ],
      "execution_count": 1,
      "outputs": [
        {
          "output_type": "stream",
          "text": [
            "/usr/local/lib/python3.6/dist-packages/statsmodels/tools/_testing.py:19: FutureWarning: pandas.util.testing is deprecated. Use the functions in the public API at pandas.testing instead.\n",
            "  import pandas.util.testing as tm\n"
          ],
          "name": "stderr"
        }
      ]
    },
    {
      "cell_type": "code",
      "metadata": {
        "id": "o9FGkDgVL2OD",
        "colab_type": "code",
        "colab": {}
      },
      "source": [
        "#Standardize the distributed variable with 20000 observations, a mean of 0, and\n",
        "# a standard deviation of 1, and putting it in a data frame.\n",
        "Mean = 0\n",
        "Sd = 1\n",
        "Samples = 20000\n"
      ],
      "execution_count": 2,
      "outputs": []
    },
    {
      "cell_type": "code",
      "metadata": {
        "id": "j03h-Z0dMu_p",
        "colab_type": "code",
        "colab": {
          "base_uri": "https://localhost:8080/",
          "height": 281
        },
        "outputId": "69706160-60df-42ca-d934-9794249e8bac"
      },
      "source": [
        "Statistic_distribution = pd.DataFrame ({'random numbers': np.random.normal(Mean, Sd, Samples)})\n",
        "\n",
        "#Code to show a histogram\n",
        "Statistic_distribution.hist()\n",
        "#code to plot data visualization\n",
        "plt.show()"
      ],
      "execution_count": 3,
      "outputs": [
        {
          "output_type": "display_data",
          "data": {
            "image/png": "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\n",
            "text/plain": [
              "<Figure size 432x288 with 1 Axes>"
            ]
          },
          "metadata": {
            "tags": [],
            "needs_background": "light"
          }
        }
      ]
    },
    {
      "cell_type": "code",
      "metadata": {
        "id": "bMHwT9foNsVR",
        "colab_type": "code",
        "colab": {
          "base_uri": "https://localhost:8080/",
          "height": 303
        },
        "outputId": "230a77a3-0bd6-4fc9-a102-32b9aac5dc75"
      },
      "source": [
        "np.random.seed(4) #Gives us a random number and 4 seems to give the best distribution example\n",
        "values = list(np.random.normal(loc=100, scale=20, size=1300)) #loc is number of values #scale reflects the size #size reflects the nis\n",
        "\n",
        "sns.distplot(values, kde=False, color='red')\n",
        "plt.title(\"Normal XY_Distribution\", fontsize=20, y=1.012)\n",
        "plt.xlabel(\"X axis\")\n",
        "plt.ylabel(\"Y axis\");"
      ],
      "execution_count": 4,
      "outputs": [
        {
          "output_type": "display_data",
          "data": {
            "image/png": "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\n",
            "text/plain": [
              "<Figure size 432x288 with 1 Axes>"
            ]
          },
          "metadata": {
            "tags": [],
            "needs_background": "light"
          }
        }
      ]
    },
    {
      "cell_type": "code",
      "metadata": {
        "id": "9U44D4FQRm-7",
        "colab_type": "code",
        "colab": {}
      },
      "source": [
        "mean = round(np.mean(values), 1) #Number represents float space\n",
        "median = round(np.median(values), 1)"
      ],
      "execution_count": 5,
      "outputs": []
    },
    {
      "cell_type": "code",
      "metadata": {
        "id": "pmFf0TzxSRGh",
        "colab_type": "code",
        "colab": {
          "base_uri": "https://localhost:8080/",
          "height": 34
        },
        "outputId": "e33e149d-acd9-4b65-eefb-c5aab6cffcd4"
      },
      "source": [
        "mean"
      ],
      "execution_count": 6,
      "outputs": [
        {
          "output_type": "execute_result",
          "data": {
            "text/plain": [
              "100.8"
            ]
          },
          "metadata": {
            "tags": []
          },
          "execution_count": 6
        }
      ]
    },
    {
      "cell_type": "code",
      "metadata": {
        "id": "c2uu6OYeSb89",
        "colab_type": "code",
        "colab": {
          "base_uri": "https://localhost:8080/",
          "height": 34
        },
        "outputId": "e03cd021-fa5f-4c5d-fb25-4cfab1a88bf6"
      },
      "source": [
        "median"
      ],
      "execution_count": 7,
      "outputs": [
        {
          "output_type": "execute_result",
          "data": {
            "text/plain": [
              "100.8"
            ]
          },
          "metadata": {
            "tags": []
          },
          "execution_count": 7
        }
      ]
    },
    {
      "cell_type": "code",
      "metadata": {
        "id": "izDYk5BYSnXD",
        "colab_type": "code",
        "colab": {}
      },
      "source": [
        "mean = round(np.mean(values), 5) #Number represents float space\n",
        "median = round(np.median(values), 5)"
      ],
      "execution_count": 8,
      "outputs": []
    },
    {
      "cell_type": "code",
      "metadata": {
        "id": "Ob5Rq1NKTFdI",
        "colab_type": "code",
        "colab": {
          "base_uri": "https://localhost:8080/",
          "height": 34
        },
        "outputId": "38c2c1ac-6c6e-4c0b-c48e-4d0c5a3dfcce"
      },
      "source": [
        "mean"
      ],
      "execution_count": 9,
      "outputs": [
        {
          "output_type": "execute_result",
          "data": {
            "text/plain": [
              "100.83396"
            ]
          },
          "metadata": {
            "tags": []
          },
          "execution_count": 9
        }
      ]
    },
    {
      "cell_type": "code",
      "metadata": {
        "id": "5KAQyYpWTHtt",
        "colab_type": "code",
        "colab": {
          "base_uri": "https://localhost:8080/",
          "height": 34
        },
        "outputId": "8c701f02-f144-4af1-ef8d-d41de77b3061"
      },
      "source": [
        "median"
      ],
      "execution_count": 10,
      "outputs": [
        {
          "output_type": "execute_result",
          "data": {
            "text/plain": [
              "100.83123"
            ]
          },
          "metadata": {
            "tags": []
          },
          "execution_count": 10
        }
      ]
    },
    {
      "cell_type": "code",
      "metadata": {
        "id": "BoCuUJifTJvb",
        "colab_type": "code",
        "colab": {
          "base_uri": "https://localhost:8080/",
          "height": 34
        },
        "outputId": "845fb494-f626-4c8e-d324-980574e57b4d"
      },
      "source": [
        "statistics.stdev(values)"
      ],
      "execution_count": 11,
      "outputs": [
        {
          "output_type": "execute_result",
          "data": {
            "text/plain": [
              "19.555386943026217"
            ]
          },
          "metadata": {
            "tags": []
          },
          "execution_count": 11
        }
      ]
    },
    {
      "cell_type": "code",
      "metadata": {
        "id": "p_lMqaSDTowU",
        "colab_type": "code",
        "colab": {}
      },
      "source": [
        "Emeralds_Data = sns.load_dataset('diamonds') #Code to import data library in the Seaborn Cloud"
      ],
      "execution_count": 12,
      "outputs": []
    },
    {
      "cell_type": "code",
      "metadata": {
        "id": "QCndOgcIT4_e",
        "colab_type": "code",
        "colab": {
          "base_uri": "https://localhost:8080/",
          "height": 203
        },
        "outputId": "83a508b1-a22c-4ebe-8e5d-7220c22f3446"
      },
      "source": [
        "Emeralds_Data.head() #Shows first few data values"
      ],
      "execution_count": 13,
      "outputs": [
        {
          "output_type": "execute_result",
          "data": {
            "text/html": [
              "<div>\n",
              "<style scoped>\n",
              "    .dataframe tbody tr th:only-of-type {\n",
              "        vertical-align: middle;\n",
              "    }\n",
              "\n",
              "    .dataframe tbody tr th {\n",
              "        vertical-align: top;\n",
              "    }\n",
              "\n",
              "    .dataframe thead th {\n",
              "        text-align: right;\n",
              "    }\n",
              "</style>\n",
              "<table border=\"1\" class=\"dataframe\">\n",
              "  <thead>\n",
              "    <tr style=\"text-align: right;\">\n",
              "      <th></th>\n",
              "      <th>carat</th>\n",
              "      <th>cut</th>\n",
              "      <th>color</th>\n",
              "      <th>clarity</th>\n",
              "      <th>depth</th>\n",
              "      <th>table</th>\n",
              "      <th>price</th>\n",
              "      <th>x</th>\n",
              "      <th>y</th>\n",
              "      <th>z</th>\n",
              "    </tr>\n",
              "  </thead>\n",
              "  <tbody>\n",
              "    <tr>\n",
              "      <th>0</th>\n",
              "      <td>0.23</td>\n",
              "      <td>Ideal</td>\n",
              "      <td>E</td>\n",
              "      <td>SI2</td>\n",
              "      <td>61.5</td>\n",
              "      <td>55.0</td>\n",
              "      <td>326</td>\n",
              "      <td>3.95</td>\n",
              "      <td>3.98</td>\n",
              "      <td>2.43</td>\n",
              "    </tr>\n",
              "    <tr>\n",
              "      <th>1</th>\n",
              "      <td>0.21</td>\n",
              "      <td>Premium</td>\n",
              "      <td>E</td>\n",
              "      <td>SI1</td>\n",
              "      <td>59.8</td>\n",
              "      <td>61.0</td>\n",
              "      <td>326</td>\n",
              "      <td>3.89</td>\n",
              "      <td>3.84</td>\n",
              "      <td>2.31</td>\n",
              "    </tr>\n",
              "    <tr>\n",
              "      <th>2</th>\n",
              "      <td>0.23</td>\n",
              "      <td>Good</td>\n",
              "      <td>E</td>\n",
              "      <td>VS1</td>\n",
              "      <td>56.9</td>\n",
              "      <td>65.0</td>\n",
              "      <td>327</td>\n",
              "      <td>4.05</td>\n",
              "      <td>4.07</td>\n",
              "      <td>2.31</td>\n",
              "    </tr>\n",
              "    <tr>\n",
              "      <th>3</th>\n",
              "      <td>0.29</td>\n",
              "      <td>Premium</td>\n",
              "      <td>I</td>\n",
              "      <td>VS2</td>\n",
              "      <td>62.4</td>\n",
              "      <td>58.0</td>\n",
              "      <td>334</td>\n",
              "      <td>4.20</td>\n",
              "      <td>4.23</td>\n",
              "      <td>2.63</td>\n",
              "    </tr>\n",
              "    <tr>\n",
              "      <th>4</th>\n",
              "      <td>0.31</td>\n",
              "      <td>Good</td>\n",
              "      <td>J</td>\n",
              "      <td>SI2</td>\n",
              "      <td>63.3</td>\n",
              "      <td>58.0</td>\n",
              "      <td>335</td>\n",
              "      <td>4.34</td>\n",
              "      <td>4.35</td>\n",
              "      <td>2.75</td>\n",
              "    </tr>\n",
              "  </tbody>\n",
              "</table>\n",
              "</div>"
            ],
            "text/plain": [
              "   carat      cut color clarity  depth  table  price     x     y     z\n",
              "0   0.23    Ideal     E     SI2   61.5   55.0    326  3.95  3.98  2.43\n",
              "1   0.21  Premium     E     SI1   59.8   61.0    326  3.89  3.84  2.31\n",
              "2   0.23     Good     E     VS1   56.9   65.0    327  4.05  4.07  2.31\n",
              "3   0.29  Premium     I     VS2   62.4   58.0    334  4.20  4.23  2.63\n",
              "4   0.31     Good     J     SI2   63.3   58.0    335  4.34  4.35  2.75"
            ]
          },
          "metadata": {
            "tags": []
          },
          "execution_count": 13
        }
      ]
    },
    {
      "cell_type": "code",
      "metadata": {
        "id": "YUZU4mBsUCUd",
        "colab_type": "code",
        "colab": {
          "base_uri": "https://localhost:8080/",
          "height": 203
        },
        "outputId": "dbdfdd90-d73d-4529-e9d7-491918c2a890"
      },
      "source": [
        "Emeralds_Data.tail() #Shows last few data values"
      ],
      "execution_count": 14,
      "outputs": [
        {
          "output_type": "execute_result",
          "data": {
            "text/html": [
              "<div>\n",
              "<style scoped>\n",
              "    .dataframe tbody tr th:only-of-type {\n",
              "        vertical-align: middle;\n",
              "    }\n",
              "\n",
              "    .dataframe tbody tr th {\n",
              "        vertical-align: top;\n",
              "    }\n",
              "\n",
              "    .dataframe thead th {\n",
              "        text-align: right;\n",
              "    }\n",
              "</style>\n",
              "<table border=\"1\" class=\"dataframe\">\n",
              "  <thead>\n",
              "    <tr style=\"text-align: right;\">\n",
              "      <th></th>\n",
              "      <th>carat</th>\n",
              "      <th>cut</th>\n",
              "      <th>color</th>\n",
              "      <th>clarity</th>\n",
              "      <th>depth</th>\n",
              "      <th>table</th>\n",
              "      <th>price</th>\n",
              "      <th>x</th>\n",
              "      <th>y</th>\n",
              "      <th>z</th>\n",
              "    </tr>\n",
              "  </thead>\n",
              "  <tbody>\n",
              "    <tr>\n",
              "      <th>53935</th>\n",
              "      <td>0.72</td>\n",
              "      <td>Ideal</td>\n",
              "      <td>D</td>\n",
              "      <td>SI1</td>\n",
              "      <td>60.8</td>\n",
              "      <td>57.0</td>\n",
              "      <td>2757</td>\n",
              "      <td>5.75</td>\n",
              "      <td>5.76</td>\n",
              "      <td>3.50</td>\n",
              "    </tr>\n",
              "    <tr>\n",
              "      <th>53936</th>\n",
              "      <td>0.72</td>\n",
              "      <td>Good</td>\n",
              "      <td>D</td>\n",
              "      <td>SI1</td>\n",
              "      <td>63.1</td>\n",
              "      <td>55.0</td>\n",
              "      <td>2757</td>\n",
              "      <td>5.69</td>\n",
              "      <td>5.75</td>\n",
              "      <td>3.61</td>\n",
              "    </tr>\n",
              "    <tr>\n",
              "      <th>53937</th>\n",
              "      <td>0.70</td>\n",
              "      <td>Very Good</td>\n",
              "      <td>D</td>\n",
              "      <td>SI1</td>\n",
              "      <td>62.8</td>\n",
              "      <td>60.0</td>\n",
              "      <td>2757</td>\n",
              "      <td>5.66</td>\n",
              "      <td>5.68</td>\n",
              "      <td>3.56</td>\n",
              "    </tr>\n",
              "    <tr>\n",
              "      <th>53938</th>\n",
              "      <td>0.86</td>\n",
              "      <td>Premium</td>\n",
              "      <td>H</td>\n",
              "      <td>SI2</td>\n",
              "      <td>61.0</td>\n",
              "      <td>58.0</td>\n",
              "      <td>2757</td>\n",
              "      <td>6.15</td>\n",
              "      <td>6.12</td>\n",
              "      <td>3.74</td>\n",
              "    </tr>\n",
              "    <tr>\n",
              "      <th>53939</th>\n",
              "      <td>0.75</td>\n",
              "      <td>Ideal</td>\n",
              "      <td>D</td>\n",
              "      <td>SI2</td>\n",
              "      <td>62.2</td>\n",
              "      <td>55.0</td>\n",
              "      <td>2757</td>\n",
              "      <td>5.83</td>\n",
              "      <td>5.87</td>\n",
              "      <td>3.64</td>\n",
              "    </tr>\n",
              "  </tbody>\n",
              "</table>\n",
              "</div>"
            ],
            "text/plain": [
              "       carat        cut color clarity  depth  table  price     x     y     z\n",
              "53935   0.72      Ideal     D     SI1   60.8   57.0   2757  5.75  5.76  3.50\n",
              "53936   0.72       Good     D     SI1   63.1   55.0   2757  5.69  5.75  3.61\n",
              "53937   0.70  Very Good     D     SI1   62.8   60.0   2757  5.66  5.68  3.56\n",
              "53938   0.86    Premium     H     SI2   61.0   58.0   2757  6.15  6.12  3.74\n",
              "53939   0.75      Ideal     D     SI2   62.2   55.0   2757  5.83  5.87  3.64"
            ]
          },
          "metadata": {
            "tags": []
          },
          "execution_count": 14
        }
      ]
    },
    {
      "cell_type": "code",
      "metadata": {
        "id": "1WPOAv4sUvw8",
        "colab_type": "code",
        "colab": {
          "base_uri": "https://localhost:8080/",
          "height": 388
        },
        "outputId": "e0401115-b8ef-4189-f0e6-0d9949274e10"
      },
     
